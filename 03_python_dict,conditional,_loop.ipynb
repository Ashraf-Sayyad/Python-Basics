{
  "cells": [
    {
      "cell_type": "markdown",
      "metadata": {
        "id": "view-in-github",
        "colab_type": "text"
      },
      "source": [
        "<a href=\"https://colab.research.google.com/github/Ashraf-Sayyad/Python-Basics/blob/main/03_python_dict%2Cconditional%2C_loop.ipynb\" target=\"_parent\"><img src=\"https://colab.research.google.com/assets/colab-badge.svg\" alt=\"Open In Colab\"/></a>"
      ]
    },
    {
      "cell_type": "code",
      "execution_count": null,
      "id": "67021c30",
      "metadata": {
        "id": "67021c30",
        "outputId": "c3025287-9184-4bcf-e848-51b8093e536d"
      },
      "outputs": [
        {
          "name": "stdout",
          "output_type": "stream",
          "text": [
            "enter your marks 54\n",
            "you will be part of C\n"
          ]
        }
      ],
      "source": [
        "marks = int(input(\"enter your marks \"))\n",
        "if marks >=80:\n",
        "    print(\"you will be part of A\")\n",
        "elif marks >= 60 and marks < 80:\n",
        "    print(\"you will be part of B\")\n",
        "elif marks >= 40 and marks < 60:\n",
        "    print(\"you will be part of C\")\n",
        "else :\n",
        "    print(\"you will be part of D\")"
      ]
    },
    {
      "cell_type": "code",
      "execution_count": null,
      "id": "3c1a68c2",
      "metadata": {
        "id": "3c1a68c2",
        "outputId": "d8397f8d-5f28-47d0-812d-005995dfcd0c"
      },
      "outputs": [
        {
          "data": {
            "text/plain": [
              "int"
            ]
          },
          "execution_count": 3,
          "metadata": {},
          "output_type": "execute_result"
        }
      ],
      "source": [
        "type(marks)"
      ]
    },
    {
      "cell_type": "code",
      "execution_count": null,
      "id": "1a65c456",
      "metadata": {
        "id": "1a65c456",
        "outputId": "7f352e33-0638-4338-d8b3-5a5fa155414b"
      },
      "outputs": [
        {
          "name": "stdout",
          "output_type": "stream",
          "text": [
            "enter price 500\n",
            "i will purchase\n"
          ]
        }
      ],
      "source": [
        "price = int(input(\"enter price \"))\n",
        "if price > 1000:\n",
        "    print(\"i will not purchase\")\n",
        "else :\n",
        "    print(\"i will purchase\")"
      ]
    },
    {
      "cell_type": "code",
      "execution_count": null,
      "id": "40b2bd2d",
      "metadata": {
        "id": "40b2bd2d",
        "outputId": "480735c8-e099-4b8a-cd2a-6f746b49d885"
      },
      "outputs": [
        {
          "name": "stdout",
          "output_type": "stream",
          "text": [
            "enter price 200\n"
          ]
        }
      ],
      "source": [
        "price = int(input(\"enter price \"))\n",
        "if price > 1000:\n",
        "    print(\"i will not purchase\")"
      ]
    },
    {
      "cell_type": "code",
      "execution_count": null,
      "id": "59d23116",
      "metadata": {
        "id": "59d23116",
        "outputId": "54d74f60-2aa7-48f2-faab-a9f4bea0664a"
      },
      "outputs": [
        {
          "name": "stdout",
          "output_type": "stream",
          "text": [
            "enter price 1500\n",
            "i will not purchase\n",
            "its ok\n"
          ]
        }
      ],
      "source": [
        "price = int(input(\"enter price \"))\n",
        "if price > 1000:\n",
        "    print(\"i will not purchase\")\n",
        "    if price >5000:\n",
        "        print(\"this is too much\")\n",
        "    elif price  < 2000:\n",
        "        print(\"its ok\")\n",
        "elif price < 1000:\n",
        "    print(\"i will purchase \")\n",
        "else :\n",
        "    print(\"not intrested\")\n",
        ""
      ]
    },
    {
      "cell_type": "code",
      "execution_count": null,
      "id": "b9ba4e0e",
      "metadata": {
        "id": "b9ba4e0e"
      },
      "outputs": [],
      "source": [
        "l = [1,2,3,3,4,5,6,7,8]"
      ]
    },
    {
      "cell_type": "code",
      "execution_count": null,
      "id": "1f19e73d",
      "metadata": {
        "id": "1f19e73d",
        "outputId": "86b388a4-5d4b-4201-f29e-852c0f156b74"
      },
      "outputs": [
        {
          "data": {
            "text/plain": [
              "2"
            ]
          },
          "execution_count": 11,
          "metadata": {},
          "output_type": "execute_result"
        }
      ],
      "source": [
        "l[0]+1"
      ]
    },
    {
      "cell_type": "code",
      "execution_count": null,
      "id": "02986f61",
      "metadata": {
        "id": "02986f61"
      },
      "outputs": [],
      "source": [
        "l1 = []"
      ]
    },
    {
      "cell_type": "code",
      "execution_count": null,
      "id": "1a9bd2bb",
      "metadata": {
        "id": "1a9bd2bb"
      },
      "outputs": [],
      "source": [
        "l1.append(l[0]+1)"
      ]
    },
    {
      "cell_type": "code",
      "execution_count": null,
      "id": "10645d81",
      "metadata": {
        "id": "10645d81",
        "outputId": "c4de2273-d8b8-4337-c33c-a3c579523fe3"
      },
      "outputs": [
        {
          "data": {
            "text/plain": [
              "[2]"
            ]
          },
          "execution_count": 14,
          "metadata": {},
          "output_type": "execute_result"
        }
      ],
      "source": [
        "l1"
      ]
    },
    {
      "cell_type": "code",
      "execution_count": null,
      "id": "c1aec4b6",
      "metadata": {
        "id": "c1aec4b6",
        "outputId": "65b4cc9c-e730-4e7d-94da-5f27ae8d5886"
      },
      "outputs": [
        {
          "data": {
            "text/plain": [
              "[1, 2, 3, 3, 4, 5, 6, 7, 8]"
            ]
          },
          "execution_count": 15,
          "metadata": {},
          "output_type": "execute_result"
        }
      ],
      "source": [
        "l"
      ]
    },
    {
      "cell_type": "code",
      "execution_count": null,
      "id": "346d23de",
      "metadata": {
        "id": "346d23de",
        "outputId": "3c36425b-df94-4dd7-abfd-a8637dcc61bb"
      },
      "outputs": [
        {
          "name": "stdout",
          "output_type": "stream",
          "text": [
            "1\n",
            "2\n",
            "3\n",
            "3\n",
            "4\n",
            "5\n",
            "6\n",
            "7\n",
            "8\n"
          ]
        }
      ],
      "source": [
        "for i in l:\n",
        "    print(i)"
      ]
    },
    {
      "cell_type": "code",
      "execution_count": null,
      "id": "73234377",
      "metadata": {
        "id": "73234377",
        "outputId": "d1829ebd-9242-4329-d7a2-020c6f199af9"
      },
      "outputs": [
        {
          "name": "stdout",
          "output_type": "stream",
          "text": [
            "2\n",
            "3\n",
            "4\n",
            "4\n",
            "5\n",
            "6\n",
            "7\n",
            "8\n",
            "9\n"
          ]
        }
      ],
      "source": [
        "for i in l:\n",
        "    print(i+1)"
      ]
    },
    {
      "cell_type": "code",
      "execution_count": null,
      "id": "2e9b4aac",
      "metadata": {
        "id": "2e9b4aac",
        "outputId": "7cd6c886-a51f-4f36-ed21-b224c13040bb"
      },
      "outputs": [
        {
          "name": "stdout",
          "output_type": "stream",
          "text": [
            "[1, 2, 3, 3, 4, 5, 6, 7, 8]\n",
            "[1, 2, 3, 3, 4, 5, 6, 7, 8]\n",
            "[1, 2, 3, 3, 4, 5, 6, 7, 8]\n",
            "[1, 2, 3, 3, 4, 5, 6, 7, 8]\n",
            "[1, 2, 3, 3, 4, 5, 6, 7, 8]\n",
            "[1, 2, 3, 3, 4, 5, 6, 7, 8]\n",
            "[1, 2, 3, 3, 4, 5, 6, 7, 8]\n",
            "[1, 2, 3, 3, 4, 5, 6, 7, 8]\n",
            "[1, 2, 3, 3, 4, 5, 6, 7, 8]\n"
          ]
        }
      ],
      "source": [
        "for i in l:\n",
        "    print(l)"
      ]
    },
    {
      "cell_type": "code",
      "execution_count": null,
      "id": "7f933fba",
      "metadata": {
        "id": "7f933fba",
        "outputId": "cd3dabc0-1b60-4f83-e3a4-f9c2cb0381ee"
      },
      "outputs": [
        {
          "name": "stdout",
          "output_type": "stream",
          "text": [
            "2\n",
            "3\n",
            "4\n",
            "4\n",
            "5\n",
            "6\n",
            "7\n",
            "8\n",
            "9\n"
          ]
        },
        {
          "data": {
            "text/plain": [
              "[2, 3, 4, 4, 5, 6, 7, 8, 9]"
            ]
          },
          "execution_count": 24,
          "metadata": {},
          "output_type": "execute_result"
        }
      ],
      "source": [
        "l1 = []\n",
        "for i in l:\n",
        "    print(i+1)\n",
        "    l1.append(i+1)\n",
        "l1"
      ]
    },
    {
      "cell_type": "code",
      "execution_count": null,
      "id": "227962d6",
      "metadata": {
        "id": "227962d6"
      },
      "outputs": [],
      "source": [
        "l = [\"ash\", \"ashu\",\"ashraf\",\"ashrafbhai\"]"
      ]
    },
    {
      "cell_type": "code",
      "execution_count": null,
      "id": "0796d6ad",
      "metadata": {
        "id": "0796d6ad",
        "outputId": "28421a7c-f839-4315-f1df-26e5116db7c8"
      },
      "outputs": [
        {
          "name": "stdout",
          "output_type": "stream",
          "text": [
            "ash\n",
            "ashu\n",
            "ashraf\n",
            "ashrafbhai\n"
          ]
        }
      ],
      "source": [
        "l1 = []\n",
        "for i in l:\n",
        "    print(i)\n",
        "    l1.append(i.upper())"
      ]
    },
    {
      "cell_type": "code",
      "execution_count": null,
      "id": "6cfdae36",
      "metadata": {
        "id": "6cfdae36",
        "outputId": "156b436c-4c96-42df-b7dd-c74e4c403ced"
      },
      "outputs": [
        {
          "name": "stdout",
          "output_type": "stream",
          "text": [
            "ash\n",
            "ashu\n",
            "ashraf\n",
            "ashraf_bhai\n"
          ]
        }
      ],
      "source": [
        "l1 = []\n",
        "for i in l:\n",
        "    print(i)\n",
        "    l1.append(i.upper())"
      ]
    },
    {
      "cell_type": "code",
      "execution_count": null,
      "id": "cad12427",
      "metadata": {
        "id": "cad12427"
      },
      "outputs": [],
      "source": [
        "l = [\"ash\", \"ashu\",\"ashraf\"]"
      ]
    },
    {
      "cell_type": "code",
      "execution_count": null,
      "id": "226e6b36",
      "metadata": {
        "id": "226e6b36",
        "outputId": "df0dd618-c0d5-43b4-db24-3aad7cfe8248"
      },
      "outputs": [
        {
          "data": {
            "text/plain": [
              "['ash', 'ashu', 'ashraf']"
            ]
          },
          "execution_count": 33,
          "metadata": {},
          "output_type": "execute_result"
        }
      ],
      "source": [
        "l"
      ]
    },
    {
      "cell_type": "code",
      "execution_count": null,
      "id": "1fa61019",
      "metadata": {
        "id": "1fa61019",
        "outputId": "f37fa1e7-b834-4364-d189-0cc6701c7d92"
      },
      "outputs": [
        {
          "name": "stdout",
          "output_type": "stream",
          "text": [
            "ash\n",
            "ashu\n",
            "ashraf\n"
          ]
        }
      ],
      "source": [
        "for i in l:\n",
        "    print(i)"
      ]
    },
    {
      "cell_type": "code",
      "execution_count": null,
      "id": "64444c2d",
      "metadata": {
        "id": "64444c2d",
        "outputId": "8eed19f2-73f7-4925-b90f-c7025fd3159c"
      },
      "outputs": [
        {
          "name": "stdout",
          "output_type": "stream",
          "text": [
            "ash\n",
            "ashu\n",
            "ashraf\n"
          ]
        }
      ],
      "source": [
        "l1 = []\n",
        "for i in l:\n",
        "    print(i)\n",
        "    l1.append(i.upper())"
      ]
    },
    {
      "cell_type": "code",
      "execution_count": null,
      "id": "b388f91c",
      "metadata": {
        "id": "b388f91c",
        "outputId": "6bac3718-483b-43b9-e498-f166ed6787f3"
      },
      "outputs": [
        {
          "data": {
            "text/plain": [
              "['ASH', 'ASHU', 'ASHRAF']"
            ]
          },
          "execution_count": 37,
          "metadata": {},
          "output_type": "execute_result"
        }
      ],
      "source": [
        "l1"
      ]
    },
    {
      "cell_type": "code",
      "execution_count": null,
      "id": "3e68bf36",
      "metadata": {
        "id": "3e68bf36",
        "outputId": "8a6de217-e393-4d4f-da00-54ded44603c7"
      },
      "outputs": [
        {
          "data": {
            "text/plain": [
              "['ASH', 'ASHU', 'ASHRAF', 'ASHRAFBHAI']"
            ]
          },
          "execution_count": 40,
          "metadata": {},
          "output_type": "execute_result"
        }
      ],
      "source": [
        "l1"
      ]
    },
    {
      "cell_type": "code",
      "execution_count": null,
      "id": "ad3d72e6",
      "metadata": {
        "id": "ad3d72e6"
      },
      "outputs": [],
      "source": [
        "l = [1,2,3,4,5,4,6,7,\"ash\",\"ashu\",2.301,\"diat\"]"
      ]
    },
    {
      "cell_type": "code",
      "execution_count": null,
      "id": "0c26e82d",
      "metadata": {
        "id": "0c26e82d"
      },
      "outputs": [],
      "source": [
        "l1_num = []\n",
        "l2_str = []\n",
        "for i in l:\n",
        "    if type(i) == int or type(i) == float :\n",
        "        l1_num.append(i)\n",
        "    else :\n",
        "        l2_str.append(i)"
      ]
    },
    {
      "cell_type": "code",
      "execution_count": null,
      "id": "8f360624",
      "metadata": {
        "id": "8f360624",
        "outputId": "f79e7958-d703-43f0-ad03-f18362d7fc85"
      },
      "outputs": [
        {
          "data": {
            "text/plain": [
              "[1, 2, 3, 4, 5, 4, 6, 7, 2.301]"
            ]
          },
          "execution_count": 44,
          "metadata": {},
          "output_type": "execute_result"
        }
      ],
      "source": [
        "l1_num"
      ]
    },
    {
      "cell_type": "code",
      "execution_count": null,
      "id": "8eb24037",
      "metadata": {
        "id": "8eb24037",
        "outputId": "75e78991-7744-43b9-c36f-4aa3d937bd57"
      },
      "outputs": [
        {
          "data": {
            "text/plain": [
              "['ash', 'ashu', 'diat']"
            ]
          },
          "execution_count": 45,
          "metadata": {},
          "output_type": "execute_result"
        }
      ],
      "source": [
        "l2_str"
      ]
    },
    {
      "cell_type": "code",
      "execution_count": null,
      "id": "632db371",
      "metadata": {
        "id": "632db371"
      },
      "outputs": [],
      "source": []
    },
    {
      "cell_type": "code",
      "execution_count": null,
      "id": "509ba82e",
      "metadata": {
        "id": "509ba82e"
      },
      "outputs": [],
      "source": []
    },
    {
      "cell_type": "code",
      "execution_count": null,
      "id": "770ec265",
      "metadata": {
        "id": "770ec265"
      },
      "outputs": [],
      "source": []
    },
    {
      "cell_type": "code",
      "execution_count": null,
      "id": "4e71ea9b",
      "metadata": {
        "id": "4e71ea9b"
      },
      "outputs": [],
      "source": []
    }
  ],
  "metadata": {
    "kernelspec": {
      "display_name": "Python 3 (ipykernel)",
      "language": "python",
      "name": "python3"
    },
    "language_info": {
      "codemirror_mode": {
        "name": "ipython",
        "version": 3
      },
      "file_extension": ".py",
      "mimetype": "text/x-python",
      "name": "python",
      "nbconvert_exporter": "python",
      "pygments_lexer": "ipython3",
      "version": "3.9.7"
    },
    "colab": {
      "provenance": [],
      "include_colab_link": true
    }
  },
  "nbformat": 4,
  "nbformat_minor": 5
}