{
  "cells": [
    {
      "cell_type": "code",
      "execution_count": null,
      "id": "ac47defb",
      "metadata": {
        "id": "ac47defb",
        "outputId": "dc6910a3-6fc6-4f78-e9c8-06150ec696d5"
      },
      "outputs": [
        {
          "name": "stdout",
          "output_type": "stream",
          "text": [
            "8\n"
          ]
        }
      ],
      "source": [
        "a=2\n",
        "b=6\n",
        "c=a+b\n",
        "print(c)"
      ]
    },
    {
      "cell_type": "code",
      "execution_count": null,
      "id": "6b824449",
      "metadata": {
        "id": "6b824449"
      },
      "outputs": [],
      "source": [
        "d={}"
      ]
    },
    {
      "cell_type": "code",
      "execution_count": null,
      "id": "977937b9",
      "metadata": {
        "id": "977937b9",
        "outputId": "2580b519-9c51-4f29-94e0-c6ca5740b370"
      },
      "outputs": [
        {
          "ename": "NameError",
          "evalue": "name 'd' is not defined",
          "output_type": "error",
          "traceback": [
            "\u001b[1;31m---------------------------------------------------------------------------\u001b[0m",
            "\u001b[1;31mNameError\u001b[0m                                 Traceback (most recent call last)",
            "\u001b[1;32m~\\AppData\\Local\\Temp/ipykernel_20904/2049116839.py\u001b[0m in \u001b[0;36m<module>\u001b[1;34m\u001b[0m\n\u001b[1;32m----> 1\u001b[1;33m \u001b[0mtype\u001b[0m\u001b[1;33m(\u001b[0m\u001b[0md\u001b[0m\u001b[1;33m)\u001b[0m\u001b[1;33m\u001b[0m\u001b[1;33m\u001b[0m\u001b[0m\n\u001b[0m",
            "\u001b[1;31mNameError\u001b[0m: name 'd' is not defined"
          ]
        }
      ],
      "source": [
        "type(d)"
      ]
    },
    {
      "cell_type": "code",
      "execution_count": null,
      "id": "b2bbb8e7",
      "metadata": {
        "id": "b2bbb8e7"
      },
      "outputs": [],
      "source": [
        "d = {}"
      ]
    },
    {
      "cell_type": "code",
      "execution_count": null,
      "id": "c8f4937e",
      "metadata": {
        "id": "c8f4937e",
        "outputId": "91cf8c2e-99ad-4aa8-ad48-037f55cad5e3"
      },
      "outputs": [
        {
          "data": {
            "text/plain": [
              "dict"
            ]
          },
          "execution_count": 3,
          "metadata": {},
          "output_type": "execute_result"
        }
      ],
      "source": [
        "type(d)"
      ]
    },
    {
      "cell_type": "code",
      "execution_count": null,
      "id": "166a737d",
      "metadata": {
        "id": "166a737d"
      },
      "outputs": [],
      "source": [
        "d1 = {'key' :'ashraf' }"
      ]
    },
    {
      "cell_type": "code",
      "execution_count": null,
      "id": "c011bcf0",
      "metadata": {
        "id": "c011bcf0",
        "outputId": "4bc09011-8fa8-4ff3-c960-f024d0db0c36"
      },
      "outputs": [
        {
          "data": {
            "text/plain": [
              "{'key': 'ashraf'}"
            ]
          },
          "execution_count": 5,
          "metadata": {},
          "output_type": "execute_result"
        }
      ],
      "source": [
        "d1"
      ]
    },
    {
      "cell_type": "code",
      "execution_count": null,
      "id": "5abfec86",
      "metadata": {
        "id": "5abfec86"
      },
      "outputs": [],
      "source": [
        "d2 ={'name' : \"ashraf\",\"age\" : \"24\",\"number\" : \"07\"}"
      ]
    },
    {
      "cell_type": "code",
      "execution_count": null,
      "id": "19707625",
      "metadata": {
        "id": "19707625",
        "outputId": "16847623-93a0-42cf-b039-90c62b2651cf"
      },
      "outputs": [
        {
          "data": {
            "text/plain": [
              "{'name': 'ashraf', 'age': '24', 'number': '07'}"
            ]
          },
          "execution_count": 7,
          "metadata": {},
          "output_type": "execute_result"
        }
      ],
      "source": [
        "d2"
      ]
    },
    {
      "cell_type": "code",
      "execution_count": null,
      "id": "613300c3",
      "metadata": {
        "id": "613300c3",
        "outputId": "5318d18d-6864-498f-edb9-8b002e5ecf46"
      },
      "outputs": [
        {
          "ename": "SyntaxError",
          "evalue": "invalid syntax (Temp/ipykernel_20904/3092945522.py, line 1)",
          "output_type": "error",
          "traceback": [
            "\u001b[1;36m  File \u001b[1;32m\"C:\\Users\\ashra\\AppData\\Local\\Temp/ipykernel_20904/3092945522.py\"\u001b[1;36m, line \u001b[1;32m1\u001b[0m\n\u001b[1;33m    d3 = {234 : \"ashu\", @pune : \"diat\"}\u001b[0m\n\u001b[1;37m                        ^\u001b[0m\n\u001b[1;31mSyntaxError\u001b[0m\u001b[1;31m:\u001b[0m invalid syntax\n"
          ]
        }
      ],
      "source": [
        "d3 = {234 : \"ashu\", @pune : \"diat\"}"
      ]
    },
    {
      "cell_type": "code",
      "execution_count": null,
      "id": "e039741b",
      "metadata": {
        "id": "e039741b",
        "outputId": "b5d710d5-af49-473c-9668-185ac2da848d"
      },
      "outputs": [
        {
          "ename": "NameError",
          "evalue": "name '_pune' is not defined",
          "output_type": "error",
          "traceback": [
            "\u001b[1;31m---------------------------------------------------------------------------\u001b[0m",
            "\u001b[1;31mNameError\u001b[0m                                 Traceback (most recent call last)",
            "\u001b[1;32m~\\AppData\\Local\\Temp/ipykernel_20904/1721457421.py\u001b[0m in \u001b[0;36m<module>\u001b[1;34m\u001b[0m\n\u001b[1;32m----> 1\u001b[1;33m \u001b[0md4\u001b[0m \u001b[1;33m=\u001b[0m \u001b[1;33m{\u001b[0m\u001b[1;36m234\u001b[0m \u001b[1;33m:\u001b[0m \u001b[1;34m\"ashu\"\u001b[0m\u001b[1;33m,\u001b[0m \u001b[0m_pune\u001b[0m \u001b[1;33m:\u001b[0m \u001b[1;34m\"diat\"\u001b[0m\u001b[1;33m}\u001b[0m\u001b[1;33m\u001b[0m\u001b[1;33m\u001b[0m\u001b[0m\n\u001b[0m",
            "\u001b[1;31mNameError\u001b[0m: name '_pune' is not defined"
          ]
        }
      ],
      "source": [
        "d4 = {234 : \"ashu\", _pune : \"diat\"}"
      ]
    },
    {
      "cell_type": "code",
      "execution_count": null,
      "id": "a59b4e6b",
      "metadata": {
        "id": "a59b4e6b"
      },
      "outputs": [],
      "source": [
        "d4 = {234 : \"ashu\", '@pune' : \"diat\"}"
      ]
    },
    {
      "cell_type": "code",
      "execution_count": null,
      "id": "3483d4a5",
      "metadata": {
        "id": "3483d4a5",
        "outputId": "b28a304d-e3a4-4a35-dfa0-99798bbc76ef"
      },
      "outputs": [
        {
          "data": {
            "text/plain": [
              "{234: 'ashu', '@pune': 'diat'}"
            ]
          },
          "execution_count": 11,
          "metadata": {},
          "output_type": "execute_result"
        }
      ],
      "source": [
        "d4"
      ]
    },
    {
      "cell_type": "code",
      "execution_count": null,
      "id": "493a6068",
      "metadata": {
        "id": "493a6068"
      },
      "outputs": [],
      "source": [
        "d9 = {\"234\" : \"ashu\", '_pune' : \"diat\"}"
      ]
    },
    {
      "cell_type": "code",
      "execution_count": null,
      "id": "14596263",
      "metadata": {
        "id": "14596263",
        "outputId": "0df543ff-e709-4f34-8f7a-e7db5fce0703"
      },
      "outputs": [
        {
          "data": {
            "text/plain": [
              "{'234': 'ashu', '_pune': 'diat'}"
            ]
          },
          "execution_count": 13,
          "metadata": {},
          "output_type": "execute_result"
        }
      ],
      "source": [
        "d9"
      ]
    },
    {
      "cell_type": "code",
      "execution_count": null,
      "id": "b9d1f2d7",
      "metadata": {
        "id": "b9d1f2d7"
      },
      "outputs": [],
      "source": [
        "d9 = {\"234\" : \"ashu\", '_pune' : \"diat\", True : 7249}"
      ]
    },
    {
      "cell_type": "code",
      "execution_count": null,
      "id": "c14d2c9e",
      "metadata": {
        "id": "c14d2c9e",
        "outputId": "7cd98876-f313-43b6-db66-611541b7770b"
      },
      "outputs": [
        {
          "data": {
            "text/plain": [
              "{'234': 'ashu', '_pune': 'diat', True: 7249}"
            ]
          },
          "execution_count": 15,
          "metadata": {},
          "output_type": "execute_result"
        }
      ],
      "source": [
        "d9"
      ]
    },
    {
      "cell_type": "code",
      "execution_count": null,
      "id": "e854a746",
      "metadata": {
        "id": "e854a746",
        "outputId": "577e0c1d-e086-4bd1-e798-e10daf8ffeb4"
      },
      "outputs": [
        {
          "ename": "KeyError",
          "evalue": "234",
          "output_type": "error",
          "traceback": [
            "\u001b[1;31m---------------------------------------------------------------------------\u001b[0m",
            "\u001b[1;31mKeyError\u001b[0m                                  Traceback (most recent call last)",
            "\u001b[1;32m~\\AppData\\Local\\Temp/ipykernel_20904/1814999564.py\u001b[0m in \u001b[0;36m<module>\u001b[1;34m\u001b[0m\n\u001b[1;32m----> 1\u001b[1;33m \u001b[0md9\u001b[0m\u001b[1;33m[\u001b[0m\u001b[1;36m234\u001b[0m\u001b[1;33m]\u001b[0m\u001b[1;33m\u001b[0m\u001b[1;33m\u001b[0m\u001b[0m\n\u001b[0m",
            "\u001b[1;31mKeyError\u001b[0m: 234"
          ]
        }
      ],
      "source": [
        "d9[234]"
      ]
    },
    {
      "cell_type": "code",
      "execution_count": null,
      "id": "b79bfd2c",
      "metadata": {
        "id": "b79bfd2c",
        "outputId": "8f3046b9-6185-4770-cbb5-9336b59380ec"
      },
      "outputs": [
        {
          "data": {
            "text/plain": [
              "'ashu'"
            ]
          },
          "execution_count": 17,
          "metadata": {},
          "output_type": "execute_result"
        }
      ],
      "source": [
        "d9['234']"
      ]
    },
    {
      "cell_type": "code",
      "execution_count": null,
      "id": "237b3861",
      "metadata": {
        "id": "237b3861",
        "outputId": "dc4e071b-bd21-409d-ed15-48b84e51a229"
      },
      "outputs": [
        {
          "data": {
            "text/plain": [
              "7249"
            ]
          },
          "execution_count": 18,
          "metadata": {},
          "output_type": "execute_result"
        }
      ],
      "source": [
        "d9[True]"
      ]
    },
    {
      "cell_type": "code",
      "execution_count": null,
      "id": "9124f094",
      "metadata": {
        "id": "9124f094",
        "outputId": "fb9ff5a9-f98a-489e-a6cf-42918c6509b6"
      },
      "outputs": [
        {
          "ename": "NameError",
          "evalue": "name 'd3' is not defined",
          "output_type": "error",
          "traceback": [
            "\u001b[1;31m---------------------------------------------------------------------------\u001b[0m",
            "\u001b[1;31mNameError\u001b[0m                                 Traceback (most recent call last)",
            "\u001b[1;32m~\\AppData\\Local\\Temp/ipykernel_20904/791329364.py\u001b[0m in \u001b[0;36m<module>\u001b[1;34m\u001b[0m\n\u001b[1;32m----> 1\u001b[1;33m \u001b[0md3\u001b[0m\u001b[1;33m[\u001b[0m\u001b[1;36m1\u001b[0m\u001b[1;33m]\u001b[0m\u001b[1;33m\u001b[0m\u001b[1;33m\u001b[0m\u001b[0m\n\u001b[0m",
            "\u001b[1;31mNameError\u001b[0m: name 'd3' is not defined"
          ]
        }
      ],
      "source": [
        "d3[1]"
      ]
    },
    {
      "cell_type": "code",
      "execution_count": null,
      "id": "378c05bb",
      "metadata": {
        "id": "378c05bb",
        "outputId": "260ad4b1-89fe-4d66-add5-c9a4c1edac24"
      },
      "outputs": [
        {
          "data": {
            "text/plain": [
              "7249"
            ]
          },
          "execution_count": 22,
          "metadata": {},
          "output_type": "execute_result"
        }
      ],
      "source": [
        "d9[1]"
      ]
    },
    {
      "cell_type": "code",
      "execution_count": null,
      "id": "d8704882",
      "metadata": {
        "id": "d8704882"
      },
      "outputs": [],
      "source": [
        "d4 = {\"name\" : \"ashu\", \"mail_id\" : \"ash@0123,\", \"name\" : \"ashraf\"}"
      ]
    },
    {
      "cell_type": "code",
      "execution_count": null,
      "id": "a2f804f1",
      "metadata": {
        "id": "a2f804f1",
        "outputId": "bb59fb33-8547-403a-c731-0bd2930a770b"
      },
      "outputs": [
        {
          "data": {
            "text/plain": [
              "{'name': 'ashraf', 'mail_id': 'ash@0123,'}"
            ]
          },
          "execution_count": 24,
          "metadata": {},
          "output_type": "execute_result"
        }
      ],
      "source": [
        "d4"
      ]
    },
    {
      "cell_type": "code",
      "execution_count": null,
      "id": "59580b9c",
      "metadata": {
        "id": "59580b9c"
      },
      "outputs": [],
      "source": [
        " d4 = {\"name\" : \"ashu\", \"mail_id\" : \"ash@0123,\", \"name_\" : \"ashraf\"}"
      ]
    },
    {
      "cell_type": "code",
      "execution_count": null,
      "id": "a5fcfb7c",
      "metadata": {
        "id": "a5fcfb7c",
        "outputId": "70f0d53d-6fa2-4d38-c49f-b5b2a684edbd"
      },
      "outputs": [
        {
          "data": {
            "text/plain": [
              "{'name': 'ashu', 'mail_id': 'ash@0123,', 'name_': 'ashraf'}"
            ]
          },
          "execution_count": 26,
          "metadata": {},
          "output_type": "execute_result"
        }
      ],
      "source": [
        "d4"
      ]
    },
    {
      "cell_type": "code",
      "execution_count": null,
      "id": "e3568cc4",
      "metadata": {
        "id": "e3568cc4"
      },
      "outputs": [],
      "source": [
        "d5={'company':'NEC','course':[\"ML\",\"DL\",\"CV\"]}"
      ]
    },
    {
      "cell_type": "code",
      "execution_count": null,
      "id": "b7d6566b",
      "metadata": {
        "id": "b7d6566b",
        "outputId": "42fd0575-a005-499e-8761-1ca165a87f36"
      },
      "outputs": [
        {
          "data": {
            "text/plain": [
              "{'company': 'NEC', 'course': ['ML', 'DL', 'CV']}"
            ]
          },
          "execution_count": 28,
          "metadata": {},
          "output_type": "execute_result"
        }
      ],
      "source": [
        "d5"
      ]
    },
    {
      "cell_type": "code",
      "execution_count": null,
      "id": "ba5eec9a",
      "metadata": {
        "id": "ba5eec9a",
        "outputId": "441960d4-7660-451a-9012-193f8f5ce8c0"
      },
      "outputs": [
        {
          "data": {
            "text/plain": [
              "['ML', 'DL', 'CV']"
            ]
          },
          "execution_count": 30,
          "metadata": {},
          "output_type": "execute_result"
        }
      ],
      "source": [
        "d5['course']"
      ]
    },
    {
      "cell_type": "code",
      "execution_count": null,
      "id": "70b9404e",
      "metadata": {
        "id": "70b9404e",
        "outputId": "df72c820-4a00-444d-b06d-55edb2139947"
      },
      "outputs": [
        {
          "data": {
            "text/plain": [
              "'CV'"
            ]
          },
          "execution_count": 31,
          "metadata": {},
          "output_type": "execute_result"
        }
      ],
      "source": [
        "d5['course'][2]"
      ]
    },
    {
      "cell_type": "code",
      "source": [],
      "metadata": {
        "id": "KhVLVcYBEUEs"
      },
      "id": "KhVLVcYBEUEs",
      "execution_count": null,
      "outputs": []
    },
    {
      "cell_type": "code",
      "execution_count": null,
      "id": "c5ccdcbc",
      "metadata": {
        "id": "c5ccdcbc"
      },
      "outputs": [],
      "source": [
        "d6={'number':[2,3,5,7,11],\"assignment\":(3,4,6,8,12),'date':{28,12,14}}\n",
        "\n",
        "# list , tuple, set"
      ]
    },
    {
      "cell_type": "code",
      "execution_count": null,
      "id": "59277f05",
      "metadata": {
        "id": "59277f05",
        "outputId": "264ba943-2376-4474-c14d-4d5bd8534cb4"
      },
      "outputs": [
        {
          "data": {
            "text/plain": [
              "{'number': [2, 3, 5, 7, 11],\n",
              " 'assignment': (3, 4, 6, 8, 12),\n",
              " 'date': {12, 14, 28}}"
            ]
          },
          "execution_count": 33,
          "metadata": {},
          "output_type": "execute_result"
        }
      ],
      "source": [
        "d6"
      ]
    },
    {
      "cell_type": "code",
      "execution_count": null,
      "id": "747255d1",
      "metadata": {
        "id": "747255d1"
      },
      "outputs": [],
      "source": [
        "d6={'number':[2,3,5,7,11],\"assignment\":(3,4,6,8,12),'date':{28,12,14}, 'time':{\"web\":8,\"data\":9}}\n",
        "\n",
        "# list , tuple, set, dict"
      ]
    },
    {
      "cell_type": "code",
      "execution_count": null,
      "id": "28bc19c4",
      "metadata": {
        "id": "28bc19c4",
        "outputId": "fea1cdc6-2945-4e37-fbd8-bcfe7fe5a80e"
      },
      "outputs": [
        {
          "data": {
            "text/plain": [
              "{'number': [2, 3, 5, 7, 11],\n",
              " 'assignment': (3, 4, 6, 8, 12),\n",
              " 'date': {12, 14, 28},\n",
              " 'time': {'web': 8, 'data': 9}}"
            ]
          },
          "execution_count": 35,
          "metadata": {},
          "output_type": "execute_result"
        }
      ],
      "source": [
        "d6"
      ]
    },
    {
      "cell_type": "code",
      "execution_count": null,
      "id": "e9ec813f",
      "metadata": {
        "id": "e9ec813f",
        "outputId": "56034ee6-15c2-4caf-ec71-e96da5aef187"
      },
      "outputs": [
        {
          "data": {
            "text/plain": [
              "{'web': 8, 'data': 9}"
            ]
          },
          "execution_count": 37,
          "metadata": {},
          "output_type": "execute_result"
        }
      ],
      "source": [
        "d6[\"time\"]"
      ]
    },
    {
      "cell_type": "code",
      "execution_count": null,
      "id": "ad969762",
      "metadata": {
        "id": "ad969762",
        "outputId": "9ca48450-78d3-4c56-c329-47cca4b07922"
      },
      "outputs": [
        {
          "data": {
            "text/plain": [
              "9"
            ]
          },
          "execution_count": 38,
          "metadata": {},
          "output_type": "execute_result"
        }
      ],
      "source": [
        "d6[\"time\"][\"data\"]"
      ]
    },
    {
      "cell_type": "code",
      "execution_count": null,
      "id": "0d3683f1",
      "metadata": {
        "id": "0d3683f1"
      },
      "outputs": [],
      "source": [
        "d6['day'] = [\"mon\",'tue','wed',\"thur\"]"
      ]
    },
    {
      "cell_type": "code",
      "execution_count": null,
      "id": "e9d4a48c",
      "metadata": {
        "id": "e9d4a48c",
        "outputId": "d2fdd76e-b3c3-4221-870a-9492276e1388"
      },
      "outputs": [
        {
          "data": {
            "text/plain": [
              "{'number': [2, 3, 5, 7, 11],\n",
              " 'assignment': (3, 4, 6, 8, 12),\n",
              " 'date': {12, 14, 28},\n",
              " 'time': {'web': 8, 'data': 9},\n",
              " 'day': ['mon', 'tue', 'wed', 'thur']}"
            ]
          },
          "execution_count": 40,
          "metadata": {},
          "output_type": "execute_result"
        }
      ],
      "source": [
        "d6"
      ]
    },
    {
      "cell_type": "code",
      "execution_count": null,
      "id": "9692957e",
      "metadata": {
        "id": "9692957e"
      },
      "outputs": [],
      "source": [
        "d6[\"day\"] = [\"thrus\",\"fri\",'sat','sun']"
      ]
    },
    {
      "cell_type": "code",
      "execution_count": null,
      "id": "9de3355e",
      "metadata": {
        "id": "9de3355e",
        "outputId": "84f79aac-3cd8-4e76-be51-4dd4b4acede9"
      },
      "outputs": [
        {
          "data": {
            "text/plain": [
              "{'number': [2, 3, 5, 7, 11],\n",
              " 'assignment': (3, 4, 6, 8, 12),\n",
              " 'date': {12, 14, 28},\n",
              " 'time': {'web': 8, 'data': 9},\n",
              " 'day': ['thrus', 'fri', 'sat', 'sun']}"
            ]
          },
          "execution_count": 42,
          "metadata": {},
          "output_type": "execute_result"
        }
      ],
      "source": [
        "d6"
      ]
    },
    {
      "cell_type": "code",
      "execution_count": null,
      "id": "ff815473",
      "metadata": {
        "id": "ff815473"
      },
      "outputs": [],
      "source": [
        "del d6[\"number\"]"
      ]
    },
    {
      "cell_type": "code",
      "execution_count": null,
      "id": "f5673153",
      "metadata": {
        "id": "f5673153",
        "outputId": "edbec1b9-1187-46e6-dedc-b81b40799dbd"
      },
      "outputs": [
        {
          "data": {
            "text/plain": [
              "{'assignment': (3, 4, 6, 8, 12),\n",
              " 'date': {12, 14, 28},\n",
              " 'time': {'web': 8, 'data': 9},\n",
              " 'day': ['thrus', 'fri', 'sat', 'sun']}"
            ]
          },
          "execution_count": 44,
          "metadata": {},
          "output_type": "execute_result"
        }
      ],
      "source": [
        "d6"
      ]
    },
    {
      "cell_type": "code",
      "execution_count": null,
      "id": "323b82df",
      "metadata": {
        "id": "323b82df",
        "outputId": "0610a043-21d8-4198-a170-c6dff6986684"
      },
      "outputs": [
        {
          "data": {
            "text/plain": [
              "dict_keys(['assignment', 'date', 'time', 'day'])"
            ]
          },
          "execution_count": 46,
          "metadata": {},
          "output_type": "execute_result"
        }
      ],
      "source": [
        "d6.keys()"
      ]
    },
    {
      "cell_type": "code",
      "execution_count": null,
      "id": "be8a3d40",
      "metadata": {
        "id": "be8a3d40",
        "outputId": "c8343fd5-024f-43ea-afef-e54c0b65f0d3"
      },
      "outputs": [
        {
          "data": {
            "text/plain": [
              "['assignment', 'date', 'time', 'day']"
            ]
          },
          "execution_count": 47,
          "metadata": {},
          "output_type": "execute_result"
        }
      ],
      "source": [
        "list(d6.keys())"
      ]
    },
    {
      "cell_type": "code",
      "execution_count": null,
      "id": "2487ccd5",
      "metadata": {
        "id": "2487ccd5",
        "outputId": "8b461718-f202-4d61-bfe2-cc217bab8995"
      },
      "outputs": [
        {
          "data": {
            "text/plain": [
              "dict_values([(3, 4, 6, 8, 12), {28, 12, 14}, {'web': 8, 'data': 9}, ['thrus', 'fri', 'sat', 'sun']])"
            ]
          },
          "execution_count": 48,
          "metadata": {},
          "output_type": "execute_result"
        }
      ],
      "source": [
        "d6.values()"
      ]
    },
    {
      "cell_type": "code",
      "execution_count": null,
      "id": "d4430732",
      "metadata": {
        "id": "d4430732",
        "outputId": "339d6794-f1c8-4e09-9089-8e27ff488daa"
      },
      "outputs": [
        {
          "data": {
            "text/plain": [
              "[(3, 4, 6, 8, 12),\n",
              " {12, 14, 28},\n",
              " {'web': 8, 'data': 9},\n",
              " ['thrus', 'fri', 'sat', 'sun']]"
            ]
          },
          "execution_count": 49,
          "metadata": {},
          "output_type": "execute_result"
        }
      ],
      "source": [
        "list(d6.values())"
      ]
    },
    {
      "cell_type": "code",
      "execution_count": null,
      "id": "257cbbca",
      "metadata": {
        "id": "257cbbca",
        "outputId": "dcc90eeb-f4c4-4b0a-ad19-107d860e94d1"
      },
      "outputs": [
        {
          "data": {
            "text/plain": [
              "dict_items([('assignment', (3, 4, 6, 8, 12)), ('date', {28, 12, 14}), ('time', {'web': 8, 'data': 9}), ('day', ['thrus', 'fri', 'sat', 'sun'])])"
            ]
          },
          "execution_count": 50,
          "metadata": {},
          "output_type": "execute_result"
        }
      ],
      "source": [
        "d6.items()"
      ]
    },
    {
      "cell_type": "code",
      "execution_count": null,
      "id": "7ad1a927",
      "metadata": {
        "id": "7ad1a927",
        "outputId": "665760e5-559e-4d9b-8521-3eca9a1e1c1d"
      },
      "outputs": [
        {
          "data": {
            "text/plain": [
              "[('assignment', (3, 4, 6, 8, 12)),\n",
              " ('date', {12, 14, 28}),\n",
              " ('time', {'web': 8, 'data': 9}),\n",
              " ('day', ['thrus', 'fri', 'sat', 'sun'])]"
            ]
          },
          "execution_count": 51,
          "metadata": {},
          "output_type": "execute_result"
        }
      ],
      "source": [
        "list(d6.items())"
      ]
    },
    {
      "cell_type": "code",
      "execution_count": null,
      "id": "37edc5c6",
      "metadata": {
        "id": "37edc5c6",
        "outputId": "ff9f8614-a2e3-440f-f085-532f55ba088f"
      },
      "outputs": [
        {
          "data": {
            "text/plain": [
              "(3, 4, 6, 8, 12)"
            ]
          },
          "execution_count": 53,
          "metadata": {},
          "output_type": "execute_result"
        }
      ],
      "source": [
        "d6.pop(\"assignment\")"
      ]
    },
    {
      "cell_type": "code",
      "execution_count": null,
      "id": "44d9cc45",
      "metadata": {
        "id": "44d9cc45",
        "outputId": "cca50007-6627-4f86-91fd-d2f3b0dc1a0b"
      },
      "outputs": [
        {
          "data": {
            "text/plain": [
              "{'date': {12, 14, 28},\n",
              " 'time': {'web': 8, 'data': 9},\n",
              " 'day': ['thrus', 'fri', 'sat', 'sun']}"
            ]
          },
          "execution_count": 54,
          "metadata": {},
          "output_type": "execute_result"
        }
      ],
      "source": [
        "d6"
      ]
    },
    {
      "cell_type": "code",
      "execution_count": null,
      "id": "5475fcb5",
      "metadata": {
        "id": "5475fcb5",
        "outputId": "0607b36b-39d7-4e49-b8c1-420621322b99"
      },
      "outputs": [
        {
          "ename": "TypeError",
          "evalue": "pop expected at least 1 argument, got 0",
          "output_type": "error",
          "traceback": [
            "\u001b[1;31m---------------------------------------------------------------------------\u001b[0m",
            "\u001b[1;31mTypeError\u001b[0m                                 Traceback (most recent call last)",
            "\u001b[1;32m~\\AppData\\Local\\Temp/ipykernel_20904/150383695.py\u001b[0m in \u001b[0;36m<module>\u001b[1;34m\u001b[0m\n\u001b[1;32m----> 1\u001b[1;33m \u001b[0md6\u001b[0m\u001b[1;33m.\u001b[0m\u001b[0mpop\u001b[0m\u001b[1;33m(\u001b[0m\u001b[1;33m)\u001b[0m\u001b[1;33m\u001b[0m\u001b[1;33m\u001b[0m\u001b[0m\n\u001b[0m",
            "\u001b[1;31mTypeError\u001b[0m: pop expected at least 1 argument, got 0"
          ]
        }
      ],
      "source": [
        "d6.pop()"
      ]
    },
    {
      "cell_type": "code",
      "execution_count": null,
      "id": "79a03a7f",
      "metadata": {
        "id": "79a03a7f",
        "outputId": "89739454-adf4-4342-932d-08721a3ecf77"
      },
      "outputs": [
        {
          "name": "stdout",
          "output_type": "stream",
          "text": [
            "you will be part of A\n"
          ]
        }
      ],
      "source": [
        "marks = 95\n",
        "if marks >=80:\n",
        "    print(\"you will be part of A\")\n",
        "elif marks >= 60 and marks < 80:\n",
        "    print(\"you will be part of B\")\n",
        "elif marks >= 40 and marks < 60:\n",
        "    print(\"you will be part of C\")\n",
        "else :\n",
        "    print(\"you will be part of D\")\n",
        ""
      ]
    },
    {
      "cell_type": "code",
      "execution_count": null,
      "id": "2e2af760",
      "metadata": {
        "scrolled": true,
        "id": "2e2af760",
        "outputId": "e8af5acb-b486-443d-e4c2-97f5cda9d1c5"
      },
      "outputs": [
        {
          "data": {
            "text/plain": [
              "True"
            ]
          },
          "execution_count": 6,
          "metadata": {},
          "output_type": "execute_result"
        }
      ],
      "source": [
        "8 <=10"
      ]
    },
    {
      "cell_type": "code",
      "execution_count": null,
      "id": "171b36a9",
      "metadata": {
        "id": "171b36a9",
        "outputId": "6606c3c3-9e98-4edb-e7b3-0b3b814fbe5d"
      },
      "outputs": [
        {
          "data": {
            "text/plain": [
              "False"
            ]
          },
          "execution_count": 7,
          "metadata": {},
          "output_type": "execute_result"
        }
      ],
      "source": [
        "8>=10"
      ]
    },
    {
      "cell_type": "code",
      "execution_count": null,
      "id": "13c0ca61",
      "metadata": {
        "id": "13c0ca61",
        "outputId": "ccc6c86f-5b8e-4e64-d5b7-c353ca217633"
      },
      "outputs": [
        {
          "name": "stdout",
          "output_type": "stream",
          "text": [
            "enter your marks45\n"
          ]
        },
        {
          "ename": "TypeError",
          "evalue": "'>=' not supported between instances of 'str' and 'int'",
          "output_type": "error",
          "traceback": [
            "\u001b[1;31m---------------------------------------------------------------------------\u001b[0m",
            "\u001b[1;31mTypeError\u001b[0m                                 Traceback (most recent call last)",
            "\u001b[1;32m~\\AppData\\Local\\Temp/ipykernel_9332/3398979112.py\u001b[0m in \u001b[0;36m<module>\u001b[1;34m\u001b[0m\n\u001b[0;32m      1\u001b[0m \u001b[0mmarks\u001b[0m \u001b[1;33m=\u001b[0m \u001b[0minput\u001b[0m\u001b[1;33m(\u001b[0m\u001b[1;34m\"enter your marks\"\u001b[0m\u001b[1;33m)\u001b[0m\u001b[1;33m\u001b[0m\u001b[1;33m\u001b[0m\u001b[0m\n\u001b[1;32m----> 2\u001b[1;33m \u001b[1;32mif\u001b[0m \u001b[0mmarks\u001b[0m \u001b[1;33m>=\u001b[0m\u001b[1;36m80\u001b[0m\u001b[1;33m:\u001b[0m\u001b[1;33m\u001b[0m\u001b[1;33m\u001b[0m\u001b[0m\n\u001b[0m\u001b[0;32m      3\u001b[0m     \u001b[0mprint\u001b[0m\u001b[1;33m(\u001b[0m\u001b[1;34m\"you will be part of A\"\u001b[0m\u001b[1;33m)\u001b[0m\u001b[1;33m\u001b[0m\u001b[1;33m\u001b[0m\u001b[0m\n\u001b[0;32m      4\u001b[0m \u001b[1;32melif\u001b[0m \u001b[0mmarks\u001b[0m \u001b[1;33m>=\u001b[0m \u001b[1;36m60\u001b[0m \u001b[1;32mand\u001b[0m \u001b[0mmarks\u001b[0m \u001b[1;33m<\u001b[0m \u001b[1;36m80\u001b[0m\u001b[1;33m:\u001b[0m\u001b[1;33m\u001b[0m\u001b[1;33m\u001b[0m\u001b[0m\n\u001b[0;32m      5\u001b[0m     \u001b[0mprint\u001b[0m\u001b[1;33m(\u001b[0m\u001b[1;34m\"you will be part of B\"\u001b[0m\u001b[1;33m)\u001b[0m\u001b[1;33m\u001b[0m\u001b[1;33m\u001b[0m\u001b[0m\n",
            "\u001b[1;31mTypeError\u001b[0m: '>=' not supported between instances of 'str' and 'int'"
          ]
        }
      ],
      "source": [
        "marks = input(\"enter your marks \")\n",
        "if marks >=80:\n",
        "    print(\"you will be part of A\")\n",
        "elif marks >= 60 and marks < 80:\n",
        "    print(\"you will be part of B\")\n",
        "elif marks >= 40 and marks < 60:\n",
        "    print(\"you will be part of C\")\n",
        "else :\n",
        "    print(\"you will be part of D\")\n",
        ""
      ]
    },
    {
      "cell_type": "code",
      "execution_count": null,
      "id": "2bf5acee",
      "metadata": {
        "id": "2bf5acee"
      },
      "outputs": [],
      "source": [
        "marks = int(input(\"enter your marks \"))\n",
        "if marks >=80:\n",
        "    print(\"you will be part of A\")\n",
        "elif marks >= 60 and marks < 80:\n",
        "    print(\"you will be part of B\")\n",
        "elif marks >= 40 and marks < 60:\n",
        "    print(\"you will be part of C\")\n",
        "else :\n",
        "    print(\"you will be part of D\")"
      ]
    },
    {
      "cell_type": "code",
      "execution_count": null,
      "id": "4930ff70",
      "metadata": {
        "id": "4930ff70"
      },
      "outputs": [],
      "source": [
        "45\n",
        "\n"
      ]
    },
    {
      "cell_type": "code",
      "execution_count": null,
      "id": "51115080",
      "metadata": {
        "id": "51115080"
      },
      "outputs": [],
      "source": [
        "marks = int(input(\"enter your marks \"))\n",
        "if marks >=80:\n",
        "    print(\"you will be part of A\")\n",
        "elif marks >= 60 and marks < 80:\n",
        "    print(\"you will be part of B\")\n",
        "elif marks >= 40 and marks < 60:\n",
        "    print(\"you will be part of C\")\n",
        "else :\n",
        "    print(\"you will be part of D\")"
      ]
    },
    {
      "cell_type": "code",
      "execution_count": null,
      "id": "3ee7c852",
      "metadata": {
        "id": "3ee7c852"
      },
      "outputs": [],
      "source": [
        "a=5\n",
        "b=4\n",
        "a+b"
      ]
    },
    {
      "cell_type": "code",
      "execution_count": null,
      "id": "ede38c82",
      "metadata": {
        "id": "ede38c82"
      },
      "outputs": [],
      "source": []
    }
  ],
  "metadata": {
    "kernelspec": {
      "display_name": "Python 3 (ipykernel)",
      "language": "python",
      "name": "python3"
    },
    "language_info": {
      "codemirror_mode": {
        "name": "ipython",
        "version": 3
      },
      "file_extension": ".py",
      "mimetype": "text/x-python",
      "name": "python",
      "nbconvert_exporter": "python",
      "pygments_lexer": "ipython3",
      "version": "3.9.7"
    },
    "colab": {
      "provenance": []
    }
  },
  "nbformat": 4,
  "nbformat_minor": 5
}