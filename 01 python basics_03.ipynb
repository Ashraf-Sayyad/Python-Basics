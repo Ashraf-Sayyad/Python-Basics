{
 "cells": [
  {
   "cell_type": "code",
   "execution_count": 1,
   "id": "ac47defb",
   "metadata": {},
   "outputs": [
    {
     "name": "stdout",
     "output_type": "stream",
     "text": [
      "8\n"
     ]
    }
   ],
   "source": [
    "a=2\n",
    "b=6\n",
    "c=a+b\n",
    "print(c)"
   ]
  },
  {
   "cell_type": "code",
   "execution_count": null,
   "id": "6b824449",
   "metadata": {},
   "outputs": [],
   "source": [
    "d={}"
   ]
  },
  {
   "cell_type": "code",
   "execution_count": 1,
   "id": "977937b9",
   "metadata": {},
   "outputs": [
    {
     "ename": "NameError",
     "evalue": "name 'd' is not defined",
     "output_type": "error",
     "traceback": [
      "\u001b[1;31m---------------------------------------------------------------------------\u001b[0m",
      "\u001b[1;31mNameError\u001b[0m                                 Traceback (most recent call last)",
      "\u001b[1;32m~\\AppData\\Local\\Temp/ipykernel_20904/2049116839.py\u001b[0m in \u001b[0;36m<module>\u001b[1;34m\u001b[0m\n\u001b[1;32m----> 1\u001b[1;33m \u001b[0mtype\u001b[0m\u001b[1;33m(\u001b[0m\u001b[0md\u001b[0m\u001b[1;33m)\u001b[0m\u001b[1;33m\u001b[0m\u001b[1;33m\u001b[0m\u001b[0m\n\u001b[0m",
      "\u001b[1;31mNameError\u001b[0m: name 'd' is not defined"
     ]
    }
   ],
   "source": [
    "type(d)"
   ]
  },
  {
   "cell_type": "code",
   "execution_count": 2,
   "id": "b2bbb8e7",
   "metadata": {},
   "outputs": [],
   "source": [
    "d = {}"
   ]
  },
  {
   "cell_type": "code",
   "execution_count": 3,
   "id": "c8f4937e",
   "metadata": {},
   "outputs": [
    {
     "data": {
      "text/plain": [
       "dict"
      ]
     },
     "execution_count": 3,
     "metadata": {},
     "output_type": "execute_result"
    }
   ],
   "source": [
    "type(d)"
   ]
  },
  {
   "cell_type": "code",
   "execution_count": 4,
   "id": "166a737d",
   "metadata": {},
   "outputs": [],
   "source": [
    "d1 = {'key' :'ashraf' }"
   ]
  },
  {
   "cell_type": "code",
   "execution_count": 5,
   "id": "c011bcf0",
   "metadata": {},
   "outputs": [
    {
     "data": {
      "text/plain": [
       "{'key': 'ashraf'}"
      ]
     },
     "execution_count": 5,
     "metadata": {},
     "output_type": "execute_result"
    }
   ],
   "source": [
    "d1"
   ]
  },
  {
   "cell_type": "code",
   "execution_count": 6,
   "id": "5abfec86",
   "metadata": {},
   "outputs": [],
   "source": [
    "d2 ={'name' : \"ashraf\",\"age\" : \"24\",\"number\" : \"07\"}"
   ]
  },
  {
   "cell_type": "code",
   "execution_count": 7,
   "id": "19707625",
   "metadata": {},
   "outputs": [
    {
     "data": {
      "text/plain": [
       "{'name': 'ashraf', 'age': '24', 'number': '07'}"
      ]
     },
     "execution_count": 7,
     "metadata": {},
     "output_type": "execute_result"
    }
   ],
   "source": [
    "d2"
   ]
  },
  {
   "cell_type": "code",
   "execution_count": 8,
   "id": "613300c3",
   "metadata": {},
   "outputs": [
    {
     "ename": "SyntaxError",
     "evalue": "invalid syntax (Temp/ipykernel_20904/3092945522.py, line 1)",
     "output_type": "error",
     "traceback": [
      "\u001b[1;36m  File \u001b[1;32m\"C:\\Users\\ashra\\AppData\\Local\\Temp/ipykernel_20904/3092945522.py\"\u001b[1;36m, line \u001b[1;32m1\u001b[0m\n\u001b[1;33m    d3 = {234 : \"ashu\", @pune : \"diat\"}\u001b[0m\n\u001b[1;37m                        ^\u001b[0m\n\u001b[1;31mSyntaxError\u001b[0m\u001b[1;31m:\u001b[0m invalid syntax\n"
     ]
    }
   ],
   "source": [
    "d3 = {234 : \"ashu\", @pune : \"diat\"}"
   ]
  },
  {
   "cell_type": "code",
   "execution_count": 9,
   "id": "e039741b",
   "metadata": {},
   "outputs": [
    {
     "ename": "NameError",
     "evalue": "name '_pune' is not defined",
     "output_type": "error",
     "traceback": [
      "\u001b[1;31m---------------------------------------------------------------------------\u001b[0m",
      "\u001b[1;31mNameError\u001b[0m                                 Traceback (most recent call last)",
      "\u001b[1;32m~\\AppData\\Local\\Temp/ipykernel_20904/1721457421.py\u001b[0m in \u001b[0;36m<module>\u001b[1;34m\u001b[0m\n\u001b[1;32m----> 1\u001b[1;33m \u001b[0md4\u001b[0m \u001b[1;33m=\u001b[0m \u001b[1;33m{\u001b[0m\u001b[1;36m234\u001b[0m \u001b[1;33m:\u001b[0m \u001b[1;34m\"ashu\"\u001b[0m\u001b[1;33m,\u001b[0m \u001b[0m_pune\u001b[0m \u001b[1;33m:\u001b[0m \u001b[1;34m\"diat\"\u001b[0m\u001b[1;33m}\u001b[0m\u001b[1;33m\u001b[0m\u001b[1;33m\u001b[0m\u001b[0m\n\u001b[0m",
      "\u001b[1;31mNameError\u001b[0m: name '_pune' is not defined"
     ]
    }
   ],
   "source": [
    "d4 = {234 : \"ashu\", _pune : \"diat\"}"
   ]
  },
  {
   "cell_type": "code",
   "execution_count": 10,
   "id": "a59b4e6b",
   "metadata": {},
   "outputs": [],
   "source": [
    "d4 = {234 : \"ashu\", '@pune' : \"diat\"}"
   ]
  },
  {
   "cell_type": "code",
   "execution_count": 11,
   "id": "3483d4a5",
   "metadata": {},
   "outputs": [
    {
     "data": {
      "text/plain": [
       "{234: 'ashu', '@pune': 'diat'}"
      ]
     },
     "execution_count": 11,
     "metadata": {},
     "output_type": "execute_result"
    }
   ],
   "source": [
    "d4"
   ]
  },
  {
   "cell_type": "code",
   "execution_count": 12,
   "id": "493a6068",
   "metadata": {},
   "outputs": [],
   "source": [
    "d9 = {\"234\" : \"ashu\", '_pune' : \"diat\"}"
   ]
  },
  {
   "cell_type": "code",
   "execution_count": 13,
   "id": "14596263",
   "metadata": {},
   "outputs": [
    {
     "data": {
      "text/plain": [
       "{'234': 'ashu', '_pune': 'diat'}"
      ]
     },
     "execution_count": 13,
     "metadata": {},
     "output_type": "execute_result"
    }
   ],
   "source": [
    "d9"
   ]
  },
  {
   "cell_type": "code",
   "execution_count": 14,
   "id": "b9d1f2d7",
   "metadata": {},
   "outputs": [],
   "source": [
    "d9 = {\"234\" : \"ashu\", '_pune' : \"diat\", True : 7249}"
   ]
  },
  {
   "cell_type": "code",
   "execution_count": 15,
   "id": "c14d2c9e",
   "metadata": {},
   "outputs": [
    {
     "data": {
      "text/plain": [
       "{'234': 'ashu', '_pune': 'diat', True: 7249}"
      ]
     },
     "execution_count": 15,
     "metadata": {},
     "output_type": "execute_result"
    }
   ],
   "source": [
    "d9"
   ]
  },
  {
   "cell_type": "code",
   "execution_count": 16,
   "id": "e854a746",
   "metadata": {},
   "outputs": [
    {
     "ename": "KeyError",
     "evalue": "234",
     "output_type": "error",
     "traceback": [
      "\u001b[1;31m---------------------------------------------------------------------------\u001b[0m",
      "\u001b[1;31mKeyError\u001b[0m                                  Traceback (most recent call last)",
      "\u001b[1;32m~\\AppData\\Local\\Temp/ipykernel_20904/1814999564.py\u001b[0m in \u001b[0;36m<module>\u001b[1;34m\u001b[0m\n\u001b[1;32m----> 1\u001b[1;33m \u001b[0md9\u001b[0m\u001b[1;33m[\u001b[0m\u001b[1;36m234\u001b[0m\u001b[1;33m]\u001b[0m\u001b[1;33m\u001b[0m\u001b[1;33m\u001b[0m\u001b[0m\n\u001b[0m",
      "\u001b[1;31mKeyError\u001b[0m: 234"
     ]
    }
   ],
   "source": [
    "d9[234]"
   ]
  },
  {
   "cell_type": "code",
   "execution_count": 17,
   "id": "b79bfd2c",
   "metadata": {},
   "outputs": [
    {
     "data": {
      "text/plain": [
       "'ashu'"
      ]
     },
     "execution_count": 17,
     "metadata": {},
     "output_type": "execute_result"
    }
   ],
   "source": [
    "d9['234']"
   ]
  },
  {
   "cell_type": "code",
   "execution_count": 18,
   "id": "237b3861",
   "metadata": {},
   "outputs": [
    {
     "data": {
      "text/plain": [
       "7249"
      ]
     },
     "execution_count": 18,
     "metadata": {},
     "output_type": "execute_result"
    }
   ],
   "source": [
    "d9[True]"
   ]
  },
  {
   "cell_type": "code",
   "execution_count": 21,
   "id": "9124f094",
   "metadata": {},
   "outputs": [
    {
     "ename": "NameError",
     "evalue": "name 'd3' is not defined",
     "output_type": "error",
     "traceback": [
      "\u001b[1;31m---------------------------------------------------------------------------\u001b[0m",
      "\u001b[1;31mNameError\u001b[0m                                 Traceback (most recent call last)",
      "\u001b[1;32m~\\AppData\\Local\\Temp/ipykernel_20904/791329364.py\u001b[0m in \u001b[0;36m<module>\u001b[1;34m\u001b[0m\n\u001b[1;32m----> 1\u001b[1;33m \u001b[0md3\u001b[0m\u001b[1;33m[\u001b[0m\u001b[1;36m1\u001b[0m\u001b[1;33m]\u001b[0m\u001b[1;33m\u001b[0m\u001b[1;33m\u001b[0m\u001b[0m\n\u001b[0m",
      "\u001b[1;31mNameError\u001b[0m: name 'd3' is not defined"
     ]
    }
   ],
   "source": [
    "d3[1]"
   ]
  },
  {
   "cell_type": "code",
   "execution_count": 22,
   "id": "378c05bb",
   "metadata": {},
   "outputs": [
    {
     "data": {
      "text/plain": [
       "7249"
      ]
     },
     "execution_count": 22,
     "metadata": {},
     "output_type": "execute_result"
    }
   ],
   "source": [
    "d9[1]"
   ]
  },
  {
   "cell_type": "code",
   "execution_count": 23,
   "id": "d8704882",
   "metadata": {},
   "outputs": [],
   "source": [
    "d4 = {\"name\" : \"ashu\", \"mail_id\" : \"ash@0123,\", \"name\" : \"ashraf\"}"
   ]
  },
  {
   "cell_type": "code",
   "execution_count": 24,
   "id": "a2f804f1",
   "metadata": {},
   "outputs": [
    {
     "data": {
      "text/plain": [
       "{'name': 'ashraf', 'mail_id': 'ash@0123,'}"
      ]
     },
     "execution_count": 24,
     "metadata": {},
     "output_type": "execute_result"
    }
   ],
   "source": [
    "d4"
   ]
  },
  {
   "cell_type": "code",
   "execution_count": 25,
   "id": "59580b9c",
   "metadata": {},
   "outputs": [],
   "source": [
    " d4 = {\"name\" : \"ashu\", \"mail_id\" : \"ash@0123,\", \"name_\" : \"ashraf\"}"
   ]
  },
  {
   "cell_type": "code",
   "execution_count": 26,
   "id": "a5fcfb7c",
   "metadata": {},
   "outputs": [
    {
     "data": {
      "text/plain": [
       "{'name': 'ashu', 'mail_id': 'ash@0123,', 'name_': 'ashraf'}"
      ]
     },
     "execution_count": 26,
     "metadata": {},
     "output_type": "execute_result"
    }
   ],
   "source": [
    "d4"
   ]
  },
  {
   "cell_type": "code",
   "execution_count": 27,
   "id": "e3568cc4",
   "metadata": {},
   "outputs": [],
   "source": [
    "d5={'company':'NEC','course':[\"ML\",\"DL\",\"CV\"]}"
   ]
  },
  {
   "cell_type": "code",
   "execution_count": 28,
   "id": "b7d6566b",
   "metadata": {},
   "outputs": [
    {
     "data": {
      "text/plain": [
       "{'company': 'NEC', 'course': ['ML', 'DL', 'CV']}"
      ]
     },
     "execution_count": 28,
     "metadata": {},
     "output_type": "execute_result"
    }
   ],
   "source": [
    "d5"
   ]
  },
  {
   "cell_type": "code",
   "execution_count": 30,
   "id": "ba5eec9a",
   "metadata": {},
   "outputs": [
    {
     "data": {
      "text/plain": [
       "['ML', 'DL', 'CV']"
      ]
     },
     "execution_count": 30,
     "metadata": {},
     "output_type": "execute_result"
    }
   ],
   "source": [
    "d5['course']"
   ]
  },
  {
   "cell_type": "code",
   "execution_count": 31,
   "id": "70b9404e",
   "metadata": {},
   "outputs": [
    {
     "data": {
      "text/plain": [
       "'CV'"
      ]
     },
     "execution_count": 31,
     "metadata": {},
     "output_type": "execute_result"
    }
   ],
   "source": [
    "d5['course'][2]"
   ]
  },
  {
   "cell_type": "code",
   "execution_count": 32,
   "id": "c5ccdcbc",
   "metadata": {},
   "outputs": [],
   "source": [
    "d6={'number':[2,3,5,7,11],\"assignment\":(3,4,6,8,12),'date':{28,12,14}}"
   ]
  },
  {
   "cell_type": "code",
   "execution_count": 33,
   "id": "59277f05",
   "metadata": {},
   "outputs": [
    {
     "data": {
      "text/plain": [
       "{'number': [2, 3, 5, 7, 11],\n",
       " 'assignment': (3, 4, 6, 8, 12),\n",
       " 'date': {12, 14, 28}}"
      ]
     },
     "execution_count": 33,
     "metadata": {},
     "output_type": "execute_result"
    }
   ],
   "source": [
    "d6"
   ]
  },
  {
   "cell_type": "code",
   "execution_count": 34,
   "id": "747255d1",
   "metadata": {},
   "outputs": [],
   "source": [
    "d6={'number':[2,3,5,7,11],\"assignment\":(3,4,6,8,12),'date':{28,12,14}, 'time':{\"web\":8,\"data\":9}}"
   ]
  },
  {
   "cell_type": "code",
   "execution_count": 35,
   "id": "28bc19c4",
   "metadata": {},
   "outputs": [
    {
     "data": {
      "text/plain": [
       "{'number': [2, 3, 5, 7, 11],\n",
       " 'assignment': (3, 4, 6, 8, 12),\n",
       " 'date': {12, 14, 28},\n",
       " 'time': {'web': 8, 'data': 9}}"
      ]
     },
     "execution_count": 35,
     "metadata": {},
     "output_type": "execute_result"
    }
   ],
   "source": [
    "d6"
   ]
  },
  {
   "cell_type": "code",
   "execution_count": 37,
   "id": "e9ec813f",
   "metadata": {},
   "outputs": [
    {
     "data": {
      "text/plain": [
       "{'web': 8, 'data': 9}"
      ]
     },
     "execution_count": 37,
     "metadata": {},
     "output_type": "execute_result"
    }
   ],
   "source": [
    "d6[\"time\"]"
   ]
  },
  {
   "cell_type": "code",
   "execution_count": 38,
   "id": "ad969762",
   "metadata": {},
   "outputs": [
    {
     "data": {
      "text/plain": [
       "9"
      ]
     },
     "execution_count": 38,
     "metadata": {},
     "output_type": "execute_result"
    }
   ],
   "source": [
    "d6[\"time\"][\"data\"]"
   ]
  },
  {
   "cell_type": "code",
   "execution_count": 39,
   "id": "0d3683f1",
   "metadata": {},
   "outputs": [],
   "source": [
    "d6['day'] = [\"mon\",'tue','wed',\"thur\"]"
   ]
  },
  {
   "cell_type": "code",
   "execution_count": 40,
   "id": "e9d4a48c",
   "metadata": {},
   "outputs": [
    {
     "data": {
      "text/plain": [
       "{'number': [2, 3, 5, 7, 11],\n",
       " 'assignment': (3, 4, 6, 8, 12),\n",
       " 'date': {12, 14, 28},\n",
       " 'time': {'web': 8, 'data': 9},\n",
       " 'day': ['mon', 'tue', 'wed', 'thur']}"
      ]
     },
     "execution_count": 40,
     "metadata": {},
     "output_type": "execute_result"
    }
   ],
   "source": [
    "d6"
   ]
  },
  {
   "cell_type": "code",
   "execution_count": 41,
   "id": "9692957e",
   "metadata": {},
   "outputs": [],
   "source": [
    "d6[\"day\"] = [\"thrus\",\"fri\",'sat','sun']"
   ]
  },
  {
   "cell_type": "code",
   "execution_count": 42,
   "id": "9de3355e",
   "metadata": {},
   "outputs": [
    {
     "data": {
      "text/plain": [
       "{'number': [2, 3, 5, 7, 11],\n",
       " 'assignment': (3, 4, 6, 8, 12),\n",
       " 'date': {12, 14, 28},\n",
       " 'time': {'web': 8, 'data': 9},\n",
       " 'day': ['thrus', 'fri', 'sat', 'sun']}"
      ]
     },
     "execution_count": 42,
     "metadata": {},
     "output_type": "execute_result"
    }
   ],
   "source": [
    "d6"
   ]
  },
  {
   "cell_type": "code",
   "execution_count": 43,
   "id": "ff815473",
   "metadata": {},
   "outputs": [],
   "source": [
    "del d6[\"number\"]"
   ]
  },
  {
   "cell_type": "code",
   "execution_count": 44,
   "id": "f5673153",
   "metadata": {},
   "outputs": [
    {
     "data": {
      "text/plain": [
       "{'assignment': (3, 4, 6, 8, 12),\n",
       " 'date': {12, 14, 28},\n",
       " 'time': {'web': 8, 'data': 9},\n",
       " 'day': ['thrus', 'fri', 'sat', 'sun']}"
      ]
     },
     "execution_count": 44,
     "metadata": {},
     "output_type": "execute_result"
    }
   ],
   "source": [
    "d6"
   ]
  },
  {
   "cell_type": "code",
   "execution_count": 46,
   "id": "323b82df",
   "metadata": {},
   "outputs": [
    {
     "data": {
      "text/plain": [
       "dict_keys(['assignment', 'date', 'time', 'day'])"
      ]
     },
     "execution_count": 46,
     "metadata": {},
     "output_type": "execute_result"
    }
   ],
   "source": [
    "d6.keys()"
   ]
  },
  {
   "cell_type": "code",
   "execution_count": 47,
   "id": "be8a3d40",
   "metadata": {},
   "outputs": [
    {
     "data": {
      "text/plain": [
       "['assignment', 'date', 'time', 'day']"
      ]
     },
     "execution_count": 47,
     "metadata": {},
     "output_type": "execute_result"
    }
   ],
   "source": [
    "list(d6.keys())"
   ]
  },
  {
   "cell_type": "code",
   "execution_count": 48,
   "id": "2487ccd5",
   "metadata": {},
   "outputs": [
    {
     "data": {
      "text/plain": [
       "dict_values([(3, 4, 6, 8, 12), {28, 12, 14}, {'web': 8, 'data': 9}, ['thrus', 'fri', 'sat', 'sun']])"
      ]
     },
     "execution_count": 48,
     "metadata": {},
     "output_type": "execute_result"
    }
   ],
   "source": [
    "d6.values()"
   ]
  },
  {
   "cell_type": "code",
   "execution_count": 49,
   "id": "d4430732",
   "metadata": {},
   "outputs": [
    {
     "data": {
      "text/plain": [
       "[(3, 4, 6, 8, 12),\n",
       " {12, 14, 28},\n",
       " {'web': 8, 'data': 9},\n",
       " ['thrus', 'fri', 'sat', 'sun']]"
      ]
     },
     "execution_count": 49,
     "metadata": {},
     "output_type": "execute_result"
    }
   ],
   "source": [
    "list(d6.values())"
   ]
  },
  {
   "cell_type": "code",
   "execution_count": 50,
   "id": "257cbbca",
   "metadata": {},
   "outputs": [
    {
     "data": {
      "text/plain": [
       "dict_items([('assignment', (3, 4, 6, 8, 12)), ('date', {28, 12, 14}), ('time', {'web': 8, 'data': 9}), ('day', ['thrus', 'fri', 'sat', 'sun'])])"
      ]
     },
     "execution_count": 50,
     "metadata": {},
     "output_type": "execute_result"
    }
   ],
   "source": [
    "d6.items()"
   ]
  },
  {
   "cell_type": "code",
   "execution_count": 51,
   "id": "7ad1a927",
   "metadata": {},
   "outputs": [
    {
     "data": {
      "text/plain": [
       "[('assignment', (3, 4, 6, 8, 12)),\n",
       " ('date', {12, 14, 28}),\n",
       " ('time', {'web': 8, 'data': 9}),\n",
       " ('day', ['thrus', 'fri', 'sat', 'sun'])]"
      ]
     },
     "execution_count": 51,
     "metadata": {},
     "output_type": "execute_result"
    }
   ],
   "source": [
    "list(d6.items())"
   ]
  },
  {
   "cell_type": "code",
   "execution_count": 53,
   "id": "37edc5c6",
   "metadata": {},
   "outputs": [
    {
     "data": {
      "text/plain": [
       "(3, 4, 6, 8, 12)"
      ]
     },
     "execution_count": 53,
     "metadata": {},
     "output_type": "execute_result"
    }
   ],
   "source": [
    "d6.pop(\"assignment\")"
   ]
  },
  {
   "cell_type": "code",
   "execution_count": 54,
   "id": "44d9cc45",
   "metadata": {},
   "outputs": [
    {
     "data": {
      "text/plain": [
       "{'date': {12, 14, 28},\n",
       " 'time': {'web': 8, 'data': 9},\n",
       " 'day': ['thrus', 'fri', 'sat', 'sun']}"
      ]
     },
     "execution_count": 54,
     "metadata": {},
     "output_type": "execute_result"
    }
   ],
   "source": [
    "d6"
   ]
  },
  {
   "cell_type": "code",
   "execution_count": 55,
   "id": "5475fcb5",
   "metadata": {},
   "outputs": [
    {
     "ename": "TypeError",
     "evalue": "pop expected at least 1 argument, got 0",
     "output_type": "error",
     "traceback": [
      "\u001b[1;31m---------------------------------------------------------------------------\u001b[0m",
      "\u001b[1;31mTypeError\u001b[0m                                 Traceback (most recent call last)",
      "\u001b[1;32m~\\AppData\\Local\\Temp/ipykernel_20904/150383695.py\u001b[0m in \u001b[0;36m<module>\u001b[1;34m\u001b[0m\n\u001b[1;32m----> 1\u001b[1;33m \u001b[0md6\u001b[0m\u001b[1;33m.\u001b[0m\u001b[0mpop\u001b[0m\u001b[1;33m(\u001b[0m\u001b[1;33m)\u001b[0m\u001b[1;33m\u001b[0m\u001b[1;33m\u001b[0m\u001b[0m\n\u001b[0m",
      "\u001b[1;31mTypeError\u001b[0m: pop expected at least 1 argument, got 0"
     ]
    }
   ],
   "source": [
    "d6.pop()"
   ]
  },
  {
   "cell_type": "code",
   "execution_count": 5,
   "id": "79a03a7f",
   "metadata": {},
   "outputs": [
    {
     "name": "stdout",
     "output_type": "stream",
     "text": [
      "you will be part of A\n"
     ]
    }
   ],
   "source": [
    "marks = 95\n",
    "if marks >=80:\n",
    "    print(\"you will be part of A\")\n",
    "elif marks >= 60 and marks < 80:\n",
    "    print(\"you will be part of B\")\n",
    "elif marks >= 40 and marks < 60:\n",
    "    print(\"you will be part of C\")\n",
    "else :\n",
    "    print(\"you will be part of D\")\n",
    "    "
   ]
  },
  {
   "cell_type": "code",
   "execution_count": 6,
   "id": "2e2af760",
   "metadata": {
    "scrolled": true
   },
   "outputs": [
    {
     "data": {
      "text/plain": [
       "True"
      ]
     },
     "execution_count": 6,
     "metadata": {},
     "output_type": "execute_result"
    }
   ],
   "source": [
    "8 <=10"
   ]
  },
  {
   "cell_type": "code",
   "execution_count": 7,
   "id": "171b36a9",
   "metadata": {},
   "outputs": [
    {
     "data": {
      "text/plain": [
       "False"
      ]
     },
     "execution_count": 7,
     "metadata": {},
     "output_type": "execute_result"
    }
   ],
   "source": [
    "8>=10"
   ]
  },
  {
   "cell_type": "code",
   "execution_count": 9,
   "id": "13c0ca61",
   "metadata": {},
   "outputs": [
    {
     "name": "stdout",
     "output_type": "stream",
     "text": [
      "enter your marks45\n"
     ]
    },
    {
     "ename": "TypeError",
     "evalue": "'>=' not supported between instances of 'str' and 'int'",
     "output_type": "error",
     "traceback": [
      "\u001b[1;31m---------------------------------------------------------------------------\u001b[0m",
      "\u001b[1;31mTypeError\u001b[0m                                 Traceback (most recent call last)",
      "\u001b[1;32m~\\AppData\\Local\\Temp/ipykernel_9332/3398979112.py\u001b[0m in \u001b[0;36m<module>\u001b[1;34m\u001b[0m\n\u001b[0;32m      1\u001b[0m \u001b[0mmarks\u001b[0m \u001b[1;33m=\u001b[0m \u001b[0minput\u001b[0m\u001b[1;33m(\u001b[0m\u001b[1;34m\"enter your marks\"\u001b[0m\u001b[1;33m)\u001b[0m\u001b[1;33m\u001b[0m\u001b[1;33m\u001b[0m\u001b[0m\n\u001b[1;32m----> 2\u001b[1;33m \u001b[1;32mif\u001b[0m \u001b[0mmarks\u001b[0m \u001b[1;33m>=\u001b[0m\u001b[1;36m80\u001b[0m\u001b[1;33m:\u001b[0m\u001b[1;33m\u001b[0m\u001b[1;33m\u001b[0m\u001b[0m\n\u001b[0m\u001b[0;32m      3\u001b[0m     \u001b[0mprint\u001b[0m\u001b[1;33m(\u001b[0m\u001b[1;34m\"you will be part of A\"\u001b[0m\u001b[1;33m)\u001b[0m\u001b[1;33m\u001b[0m\u001b[1;33m\u001b[0m\u001b[0m\n\u001b[0;32m      4\u001b[0m \u001b[1;32melif\u001b[0m \u001b[0mmarks\u001b[0m \u001b[1;33m>=\u001b[0m \u001b[1;36m60\u001b[0m \u001b[1;32mand\u001b[0m \u001b[0mmarks\u001b[0m \u001b[1;33m<\u001b[0m \u001b[1;36m80\u001b[0m\u001b[1;33m:\u001b[0m\u001b[1;33m\u001b[0m\u001b[1;33m\u001b[0m\u001b[0m\n\u001b[0;32m      5\u001b[0m     \u001b[0mprint\u001b[0m\u001b[1;33m(\u001b[0m\u001b[1;34m\"you will be part of B\"\u001b[0m\u001b[1;33m)\u001b[0m\u001b[1;33m\u001b[0m\u001b[1;33m\u001b[0m\u001b[0m\n",
      "\u001b[1;31mTypeError\u001b[0m: '>=' not supported between instances of 'str' and 'int'"
     ]
    }
   ],
   "source": [
    "marks = input(\"enter your marks \")\n",
    "if marks >=80:\n",
    "    print(\"you will be part of A\")\n",
    "elif marks >= 60 and marks < 80:\n",
    "    print(\"you will be part of B\")\n",
    "elif marks >= 40 and marks < 60:\n",
    "    print(\"you will be part of C\")\n",
    "else :\n",
    "    print(\"you will be part of D\")\n",
    "    "
   ]
  },
  {
   "cell_type": "code",
   "execution_count": null,
   "id": "2bf5acee",
   "metadata": {},
   "outputs": [],
   "source": [
    "marks = int(input(\"enter your marks \"))\n",
    "if marks >=80:\n",
    "    print(\"you will be part of A\")\n",
    "elif marks >= 60 and marks < 80:\n",
    "    print(\"you will be part of B\")\n",
    "elif marks >= 40 and marks < 60:\n",
    "    print(\"you will be part of C\")\n",
    "else :\n",
    "    print(\"you will be part of D\")"
   ]
  },
  {
   "cell_type": "code",
   "execution_count": null,
   "id": "4930ff70",
   "metadata": {},
   "outputs": [],
   "source": [
    "45\n",
    "\n"
   ]
  },
  {
   "cell_type": "code",
   "execution_count": null,
   "id": "51115080",
   "metadata": {},
   "outputs": [],
   "source": [
    "marks = int(input(\"enter your marks \"))\n",
    "if marks >=80:\n",
    "    print(\"you will be part of A\")\n",
    "elif marks >= 60 and marks < 80:\n",
    "    print(\"you will be part of B\")\n",
    "elif marks >= 40 and marks < 60:\n",
    "    print(\"you will be part of C\")\n",
    "else :\n",
    "    print(\"you will be part of D\")"
   ]
  },
  {
   "cell_type": "code",
   "execution_count": null,
   "id": "3ee7c852",
   "metadata": {},
   "outputs": [],
   "source": [
    "a=5\n",
    "b=4\n",
    "a+b"
   ]
  },
  {
   "cell_type": "code",
   "execution_count": null,
   "id": "ede38c82",
   "metadata": {},
   "outputs": [],
   "source": []
  }
 ],
 "metadata": {
  "kernelspec": {
   "display_name": "Python 3 (ipykernel)",
   "language": "python",
   "name": "python3"
  },
  "language_info": {
   "codemirror_mode": {
    "name": "ipython",
    "version": 3
   },
   "file_extension": ".py",
   "mimetype": "text/x-python",
   "name": "python",
   "nbconvert_exporter": "python",
   "pygments_lexer": "ipython3",
   "version": "3.9.7"
  }
 },
 "nbformat": 4,
 "nbformat_minor": 5
}
